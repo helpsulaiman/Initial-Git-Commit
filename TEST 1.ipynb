{
 "cells": [
  {
   "cell_type": "markdown",
   "id": "9a277ef9-7619-465e-84db-eb0362217265",
   "metadata": {
    "editable": true,
    "panel-layout": {
     "height": 51.140625,
     "visible": true,
     "width": 100
    },
    "slideshow": {
     "slide_type": ""
    },
    "tags": []
   },
   "source": [
    "Variables And Strings"
   ]
  },
  {
   "cell_type": "code",
   "execution_count": 1,
   "id": "fe857775-ced1-4697-b43d-8c4cf4281f59",
   "metadata": {
    "collapsed": true,
    "jupyter": {
     "outputs_hidden": true,
     "source_hidden": true
    },
    "panel-layout": {
     "height": 0,
     "visible": true,
     "width": 100
    }
   },
   "outputs": [
    {
     "name": "stdout",
     "output_type": "stream",
     "text": [
      "My name is Sulaiman\n"
     ]
    }
   ],
   "source": [
    "# Prints message\n",
    "\n",
    "print('My name is Sulaiman')"
   ]
  },
  {
   "cell_type": "code",
   "execution_count": 71,
   "id": "b21302e5-3d52-4fcb-a418-0dd465a2eeed",
   "metadata": {
    "collapsed": true,
    "jupyter": {
     "outputs_hidden": true,
     "source_hidden": true
    },
    "panel-layout": {
     "height": 10,
     "visible": true,
     "width": 100
    },
    "scrolled": true
   },
   "outputs": [
    {
     "name": "stdout",
     "output_type": "stream",
     "text": [
      "Football\n"
     ]
    },
    {
     "data": {
      "text/plain": [
       "str"
      ]
     },
     "execution_count": 71,
     "metadata": {},
     "output_type": "execute_result"
    }
   ],
   "source": [
    "# Define Variable\n",
    "\n",
    "Sport = 'Football'\n",
    "print(Sport)\n",
    "type(Sport)"
   ]
  },
  {
   "cell_type": "code",
   "execution_count": 73,
   "id": "222c5fa8-d701-4b9c-8d08-b3e6df1cf51e",
   "metadata": {
    "collapsed": true,
    "jupyter": {
     "outputs_hidden": true,
     "source_hidden": true
    }
   },
   "outputs": [
    {
     "name": "stdout",
     "output_type": "stream",
     "text": [
      "True\n"
     ]
    }
   ],
   "source": [
    "# If statement\n",
    "\n",
    "if Sport == 'Football':\n",
    "    print('True')"
   ]
  },
  {
   "cell_type": "code",
   "execution_count": 2,
   "id": "27760dde-0344-484b-9ebc-9fc150a2033d",
   "metadata": {
    "collapsed": true,
    "jupyter": {
     "outputs_hidden": true,
     "source_hidden": true
    },
    "panel-layout": {
     "height": 0,
     "visible": true,
     "width": 100
    }
   },
   "outputs": [
    {
     "name": "stdout",
     "output_type": "stream",
     "text": [
      "Sulaiman Shabir\n"
     ]
    }
   ],
   "source": [
    "first_name='sulaiman'\n",
    "last_name='shabir'\n",
    "full_name=first_name+' '+last_name\n",
    "print (full_name.title())"
   ]
  },
  {
   "cell_type": "markdown",
   "id": "f59e95e5-d7b9-40a7-93a2-f32c50805f5f",
   "metadata": {},
   "source": [
    "Injecting and Formatting"
   ]
  },
  {
   "cell_type": "code",
   "execution_count": 78,
   "id": "710fb250-fe9a-4d65-a4e9-b66007cc6808",
   "metadata": {
    "collapsed": true,
    "jupyter": {
     "outputs_hidden": true,
     "source_hidden": true
    },
    "panel-layout": {
     "height": 0,
     "visible": true,
     "width": 100
    }
   },
   "outputs": [
    {
     "name": "stdout",
     "output_type": "stream",
     "text": [
      "Hello Sulaiman Shabir, you are 20 old\n"
     ]
    }
   ],
   "source": [
    "# injecting variables and formatting\n",
    "first_name='Sulaiman'\n",
    "last_name='Shabir'\n",
    "\n",
    "print('Hello {}, you are {} old'.format(first_name + ' ' + last_name, 20))"
   ]
  },
  {
   "cell_type": "code",
   "execution_count": 80,
   "id": "54eadedc-1f78-457c-b946-cc240e6f0247",
   "metadata": {
    "collapsed": true,
    "jupyter": {
     "outputs_hidden": true,
     "source_hidden": true
    },
    "panel-layout": {
     "height": 0,
     "visible": true,
     "width": 100
    }
   },
   "outputs": [
    {
     "name": "stdout",
     "output_type": "stream",
     "text": [
      "Hello, Sulaiman Shabir\n"
     ]
    }
   ],
   "source": [
    "# multiple variable formatting\n",
    "\n",
    "first_name = \"Sulaiman\"\n",
    "last_name = \"Shabir\"\n",
    "\n",
    "print(\"Hello, %s %s\" % (first_name, last_name))"
   ]
  },
  {
   "cell_type": "markdown",
   "id": "89f1d172-ad83-4d4a-990b-365cb70f81f9",
   "metadata": {},
   "source": [
    "Indexing"
   ]
  },
  {
   "cell_type": "code",
   "execution_count": 1,
   "id": "b731963d-ee12-4a65-b919-8085eb251f4f",
   "metadata": {
    "collapsed": true,
    "jupyter": {
     "outputs_hidden": true,
     "source_hidden": true
    },
    "panel-layout": {
     "height": 0,
     "visible": true,
     "width": 100
    }
   },
   "outputs": [
    {
     "name": "stdout",
     "output_type": "stream",
     "text": [
      "F\n",
      "o\n",
      "l\n"
     ]
    }
   ],
   "source": [
    "# Indexing\n",
    "\n",
    "word = 'Football'\n",
    "\n",
    "print(word[0])               # Prints the first letter of the word\n",
    "print(word[1])               # Prints the second letter of the word\n",
    "print(word[-1])              # Prints the last letter of the word"
   ]
  },
  {
   "cell_type": "code",
   "execution_count": 85,
   "id": "c33e5e0d-28e0-4d31-978a-c79fa6989ad3",
   "metadata": {
    "collapsed": true,
    "jupyter": {
     "outputs_hidden": true,
     "source_hidden": true
    },
    "panel-layout": {
     "height": 0,
     "visible": true,
     "width": 100
    }
   },
   "outputs": [
    {
     "name": "stdout",
     "output_type": "stream",
     "text": [
      "F o\n",
      "Fo\n"
     ]
    }
   ],
   "source": [
    "print(word[0], word[1])\n",
    "print(word[0:2])"
   ]
  },
  {
   "cell_type": "code",
   "execution_count": 87,
   "id": "3a788253-1b83-420c-b01d-82d8ea7316fa",
   "metadata": {
    "collapsed": true,
    "jupyter": {
     "outputs_hidden": true,
     "source_hidden": true
    },
    "panel-layout": {
     "height": 0,
     "visible": true,
     "width": 100
    }
   },
   "outputs": [
    {
     "name": "stdout",
     "output_type": "stream",
     "text": [
      "Fob\n"
     ]
    }
   ],
   "source": [
    "print(word[ 0 : 5 : 2 ])"
   ]
  },
  {
   "cell_type": "code",
   "execution_count": 141,
   "id": "0f1cad8b-7100-444b-8e46-30ad2178d52b",
   "metadata": {
    "collapsed": true,
    "jupyter": {
     "outputs_hidden": true,
     "source_hidden": true
    }
   },
   "outputs": [
    {
     "name": "stdout",
     "output_type": "stream",
     "text": [
      "Fobl\n"
     ]
    }
   ],
   "source": [
    "print(word[0:8:2])"
   ]
  },
  {
   "cell_type": "markdown",
   "id": "a52fbc51-afda-4e60-a594-c8e55b899f15",
   "metadata": {},
   "source": [
    "Palindromes"
   ]
  },
  {
   "cell_type": "code",
   "execution_count": 33,
   "id": "ad35c452-c4f5-497e-9265-a6ae3800f244",
   "metadata": {
    "collapsed": true,
    "jupyter": {
     "outputs_hidden": true,
     "source_hidden": true
    }
   },
   "outputs": [
    {
     "name": "stdin",
     "output_type": "stream",
     "text": [
      " Do geese see GoD\n"
     ]
    },
    {
     "name": "stdout",
     "output_type": "stream",
     "text": [
      "\"Do geese see GoD\" is a plaindrome\n"
     ]
    }
   ],
   "source": [
    "text = input()\n",
    "\n",
    "# Converts the string into one word\n",
    "text_raw = text.replace(\" \", \"\").lower()\n",
    "\n",
    "# Reverse the string\n",
    "reversed_text = text.replace(\" \", \"\").lower()[::-1]\n",
    "\n",
    "# Checks if a string is a palindrome\n",
    "if reversed_text ==  text_raw:\n",
    "\n",
    "# Prints if string is a palindrome\n",
    "    print('\"' + text + '\"' + ' is a plaindrome')\n",
    "\n",
    "# Prints if string is not a palindrome\n",
    "else:\n",
    "    print('This text is not a palindrome')\n",
    "    "
   ]
  },
  {
   "cell_type": "code",
   "execution_count": 2,
   "id": "49e96e46-f003-41dc-9635-5f41d4a7e798",
   "metadata": {
    "collapsed": true,
    "jupyter": {
     "outputs_hidden": true,
     "source_hidden": true
    }
   },
   "outputs": [
    {
     "name": "stdout",
     "output_type": "stream",
     "text": [
      "30\n"
     ]
    }
   ],
   "source": [
    "x = 24 + 6\n",
    "print(x)"
   ]
  },
  {
   "cell_type": "code",
   "execution_count": null,
   "id": "1cfd5f56-649f-459d-8435-ccdce515b181",
   "metadata": {},
   "outputs": [],
   "source": []
  }
 ],
 "metadata": {
  "kernelspec": {
   "display_name": "Python 3 (ipykernel)",
   "language": "python",
   "name": "python3"
  },
  "language_info": {
   "codemirror_mode": {
    "name": "ipython",
    "version": 3
   },
   "file_extension": ".py",
   "mimetype": "text/x-python",
   "name": "python",
   "nbconvert_exporter": "python",
   "pygments_lexer": "ipython3",
   "version": "3.12.4"
  },
  "panel-cell-order": [
   "9a277ef9-7619-465e-84db-eb0362217265",
   "fe857775-ced1-4697-b43d-8c4cf4281f59",
   "b21302e5-3d52-4fcb-a418-0dd465a2eeed",
   "27760dde-0344-484b-9ebc-9fc150a2033d",
   "710fb250-fe9a-4d65-a4e9-b66007cc6808",
   "54eadedc-1f78-457c-b946-cc240e6f0247",
   "b731963d-ee12-4a65-b919-8085eb251f4f",
   "c33e5e0d-28e0-4d31-978a-c79fa6989ad3",
   "3a788253-1b83-420c-b01d-82d8ea7316fa"
  ]
 },
 "nbformat": 4,
 "nbformat_minor": 5
}
